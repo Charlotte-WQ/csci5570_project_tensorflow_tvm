{
 "cells": [
  {
   "cell_type": "code",
   "execution_count": 1,
   "id": "175c50e1",
   "metadata": {},
   "outputs": [],
   "source": [
    "import numpy as np\n",
    "import tensorflow as tf"
   ]
  },
  {
   "cell_type": "code",
   "execution_count": 2,
   "id": "c34bebab",
   "metadata": {},
   "outputs": [],
   "source": [
    "# weight variable\n",
    "def weight_variable(shape):\n",
    "    initial = tf.truncated_normal(shape, stddev = 0.1)\n",
    "    return tf.Variable(initial)"
   ]
  },
  {
   "cell_type": "code",
   "execution_count": 3,
   "id": "e4cab121",
   "metadata": {},
   "outputs": [],
   "source": [
    "# bias variable\n",
    "def bias_variable(shape):\n",
    "    initial = tf.zeros(shape) + 0.1\n",
    "    return tf.Variable(initial)"
   ]
  },
  {
   "cell_type": "code",
   "execution_count": 4,
   "id": "39325878",
   "metadata": {},
   "outputs": [],
   "source": [
    "# data\n",
    "x_data = np.random.rand(100)[:, np.newaxis]\n",
    "noise = np.random.normal(0, 0.01, x_data.shape)\n",
    "y_data = x_data * 0.7 + noise"
   ]
  },
  {
   "cell_type": "code",
   "execution_count": 5,
   "id": "6ea22dc9",
   "metadata": {},
   "outputs": [],
   "source": [
    "# start a session\n",
    "sess = tf.InteractiveSession()"
   ]
  },
  {
   "cell_type": "code",
   "execution_count": 6,
   "id": "a3d19226",
   "metadata": {},
   "outputs": [],
   "source": [
    "# construct tensors\n",
    "x = tf.placeholder(tf.float32, [None, 1])\n",
    "y = tf.placeholder(tf.float32, [None, 1])"
   ]
  },
  {
   "cell_type": "code",
   "execution_count": 7,
   "id": "6c0f081a",
   "metadata": {},
   "outputs": [],
   "source": [
    "# build the first layer\n",
    "W_conv1 = weight_variable([1,10])\n",
    "b_conv1 = bias_variable([10])"
   ]
  },
  {
   "cell_type": "code",
   "execution_count": 8,
   "id": "adfd8326",
   "metadata": {},
   "outputs": [],
   "source": [
    "# compute output\n",
    "h_conv1 = tf.matmul(x, W_conv1) + b_conv1\n",
    "h_relu1 = tf.nn.relu(h_conv1)"
   ]
  },
  {
   "cell_type": "code",
   "execution_count": 9,
   "id": "1c81e40d",
   "metadata": {},
   "outputs": [],
   "source": [
    "# build the second layer\n",
    "W_conv2 = weight_variable([10,1])\n",
    "b_conv2 = bias_variable([1])"
   ]
  },
  {
   "cell_type": "code",
   "execution_count": 10,
   "id": "b068589a",
   "metadata": {},
   "outputs": [],
   "source": [
    "# compute output\n",
    "predict = tf.matmul(h_relu1, W_conv2) + b_conv2"
   ]
  },
  {
   "cell_type": "code",
   "execution_count": 11,
   "id": "fd0b5ee4",
   "metadata": {},
   "outputs": [],
   "source": [
    "# compute loss\n",
    "loss = tf.reduce_mean(tf.reduce_sum(tf.square(y - predict),\n",
    "                    reduction_indices=[1]))"
   ]
  },
  {
   "cell_type": "code",
   "execution_count": 12,
   "id": "fae84b04",
   "metadata": {},
   "outputs": [],
   "source": [
    "# optimizer and optimization\n",
    "train_step = tf.train.AdamOptimizer(1e-4).minimize(loss)"
   ]
  },
  {
   "cell_type": "code",
   "execution_count": 13,
   "id": "0b3a74df",
   "metadata": {},
   "outputs": [],
   "source": [
    "# initialization\n",
    "sess.run(tf.global_variables_initializer())"
   ]
  },
  {
   "cell_type": "code",
   "execution_count": 14,
   "id": "0446c204",
   "metadata": {
    "scrolled": true
   },
   "outputs": [],
   "source": [
    "# start training\n",
    "for i in range(1000):\n",
    "    sess.run(train_step, feed_dict={x: x_data, y: y_data})"
   ]
  },
  {
   "cell_type": "code",
   "execution_count": 15,
   "id": "2108ba5d",
   "metadata": {},
   "outputs": [],
   "source": [
    "# end the session\n",
    "sess.close()"
   ]
  },
  {
   "cell_type": "code",
   "execution_count": null,
   "id": "83043c43",
   "metadata": {},
   "outputs": [],
   "source": []
  }
 ],
 "metadata": {
  "kernelspec": {
   "display_name": "Python 3",
   "language": "python",
   "name": "python3"
  },
  "language_info": {
   "codemirror_mode": {
    "name": "ipython",
    "version": 3
   },
   "file_extension": ".py",
   "mimetype": "text/x-python",
   "name": "python",
   "nbconvert_exporter": "python",
   "pygments_lexer": "ipython3",
   "version": "3.7.10"
  }
 },
 "nbformat": 4,
 "nbformat_minor": 5
}
